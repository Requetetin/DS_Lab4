{
 "cells": [
  {
   "cell_type": "markdown",
   "metadata": {},
   "source": [
    "Universidad del Valle de Guatemala ||\n",
    " Martin Amado 19020 -\n",
    " Juan Pablo Pineda 19087"
   ]
  },
  {
   "cell_type": "code",
   "execution_count": 120,
   "metadata": {},
   "outputs": [
    {
     "name": "stderr",
     "output_type": "stream",
     "text": [
      "[nltk_data] Downloading package stopwords to\n",
      "[nltk_data]     C:\\Users\\reque\\AppData\\Roaming\\nltk_data...\n",
      "[nltk_data]   Package stopwords is already up-to-date!\n",
      "[nltk_data] Downloading package punkt to\n",
      "[nltk_data]     C:\\Users\\reque\\AppData\\Roaming\\nltk_data...\n",
      "[nltk_data]   Package punkt is already up-to-date!\n",
      "[nltk_data] Downloading package names to\n",
      "[nltk_data]     C:\\Users\\reque\\AppData\\Roaming\\nltk_data...\n",
      "[nltk_data]   Package names is already up-to-date!\n",
      "[nltk_data] Downloading package vader_lexicon to\n",
      "[nltk_data]     C:\\Users\\reque\\AppData\\Roaming\\nltk_data...\n",
      "[nltk_data]   Package vader_lexicon is already up-to-date!\n"
     ]
    }
   ],
   "source": [
    "import pandas as pd\n",
    "import matplotlib.pyplot as plt\n",
    "import seaborn as sns\n",
    "import numpy as np\n",
    "import nltk\n",
    "import gensim\n",
    "import string\n",
    "import re\n",
    "\n",
    "from nltk.corpus import stopwords\n",
    "from nltk.util import ngrams\n",
    "from sklearn import feature_extraction, linear_model, model_selection, preprocessing\n",
    "from sklearn.feature_extraction.text import CountVectorizer\n",
    "from collections import defaultdict\n",
    "from collections import  Counter\n",
    "from nltk.sentiment import SentimentIntensityAnalyzer\n",
    "from nltk.tokenize import word_tokenize\n",
    "from keras.preprocessing.text import Tokenizer\n",
    "from keras_preprocessing.sequence import pad_sequences\n",
    "from tqdm import tqdm\n",
    "from keras.models import Sequential\n",
    "from keras.layers import Embedding,LSTM,Dense,SpatialDropout1D\n",
    "from keras.initializers import Constant\n",
    "from sklearn.model_selection import train_test_split\n",
    "from keras.optimizers import Adam\n",
    "nltk.download(['stopwords', 'punkt', 'names', 'vader_lexicon'] )\n",
    "plt.style.use('ggplot')\n",
    "stop=set(stopwords.words('english'))"
   ]
  },
  {
   "cell_type": "code",
   "execution_count": 121,
   "metadata": {},
   "outputs": [
    {
     "data": {
      "text/html": "<div>\n<style scoped>\n    .dataframe tbody tr th:only-of-type {\n        vertical-align: middle;\n    }\n\n    .dataframe tbody tr th {\n        vertical-align: top;\n    }\n\n    .dataframe thead th {\n        text-align: right;\n    }\n</style>\n<table border=\"1\" class=\"dataframe\">\n  <thead>\n    <tr style=\"text-align: right;\">\n      <th></th>\n      <th>id</th>\n      <th>keyword</th>\n      <th>location</th>\n      <th>text</th>\n      <th>target</th>\n    </tr>\n  </thead>\n  <tbody>\n    <tr>\n      <th>0</th>\n      <td>1</td>\n      <td>NaN</td>\n      <td>NaN</td>\n      <td>Our Deeds are the Reason of this #earthquake M...</td>\n      <td>1</td>\n    </tr>\n    <tr>\n      <th>1</th>\n      <td>4</td>\n      <td>NaN</td>\n      <td>NaN</td>\n      <td>Forest fire near La Ronge Sask. Canada</td>\n      <td>1</td>\n    </tr>\n    <tr>\n      <th>2</th>\n      <td>5</td>\n      <td>NaN</td>\n      <td>NaN</td>\n      <td>All residents asked to 'shelter in place' are ...</td>\n      <td>1</td>\n    </tr>\n    <tr>\n      <th>3</th>\n      <td>6</td>\n      <td>NaN</td>\n      <td>NaN</td>\n      <td>13,000 people receive #wildfires evacuation or...</td>\n      <td>1</td>\n    </tr>\n    <tr>\n      <th>4</th>\n      <td>7</td>\n      <td>NaN</td>\n      <td>NaN</td>\n      <td>Just got sent this photo from Ruby #Alaska as ...</td>\n      <td>1</td>\n    </tr>\n  </tbody>\n</table>\n</div>",
      "text/plain": "   id keyword location                                               text  \\\n0   1     NaN      NaN  Our Deeds are the Reason of this #earthquake M...   \n1   4     NaN      NaN             Forest fire near La Ronge Sask. Canada   \n2   5     NaN      NaN  All residents asked to 'shelter in place' are ...   \n3   6     NaN      NaN  13,000 people receive #wildfires evacuation or...   \n4   7     NaN      NaN  Just got sent this photo from Ruby #Alaska as ...   \n\n   target  \n0       1  \n1       1  \n2       1  \n3       1  \n4       1  "
     },
     "execution_count": 121,
     "metadata": {},
     "output_type": "execute_result"
    }
   ],
   "source": [
    "train = pd.read_csv('./train.csv')\n",
    "test = pd.read_csv('./test.csv')\n",
    "train.head()"
   ]
  },
  {
   "cell_type": "code",
   "execution_count": 122,
   "metadata": {},
   "outputs": [
    {
     "name": "stdout",
     "output_type": "stream",
     "text": [
      "(7613, 5)\n",
      "(3263, 4)\n"
     ]
    }
   ],
   "source": [
    "print(train.shape)\n",
    "print(test.shape)"
   ]
  },
  {
   "cell_type": "markdown",
   "metadata": {},
   "source": [
    "## Analisis Exploratorio"
   ]
  },
  {
   "cell_type": "code",
   "execution_count": 123,
   "metadata": {},
   "outputs": [
    {
     "name": "stderr",
     "output_type": "stream",
     "text": [
      "C:\\Users\\reque\\AppData\\Local\\Packages\\PythonSoftwareFoundation.Python.3.10_qbz5n2kfra8p0\\LocalCache\\local-packages\\Python310\\site-packages\\seaborn\\_decorators.py:36: FutureWarning: Pass the following variables as keyword args: x, y. From version 0.12, the only valid positional argument will be `data`, and passing other arguments without an explicit keyword will result in an error or misinterpretation.\n",
      "  warnings.warn(\n"
     ]
    },
    {
     "data": {
      "text/plain": "Text(0, 0.5, 'samples')"
     },
     "execution_count": 123,
     "metadata": {},
     "output_type": "execute_result"
    },
    {
     "data": {
      "image/png": "[encoded data removed]",
      "text/plain": "<Figure size 432x288 with 1 Axes>"
     },
     "metadata": {},
     "output_type": "display_data"
    }
   ],
   "source": [
    "x = train.target.value_counts()\n",
    "sns.barplot(x.index, x)\n",
    "plt.gca().set_ylabel('samples')"
   ]
  },
  {
   "cell_type": "markdown",
   "metadata": {},
   "source": [
    "Existen mas tweets que no hacen referencia a desastre (0) que aquellos que si hacen referencia a un desastre (1)"
   ]
  },
  {
   "cell_type": "markdown",
   "metadata": {},
   "source": [
    "### Cantidad de caracteres en un tweet"
   ]
  },
  {
   "cell_type": "code",
   "execution_count": 124,
   "metadata": {},
   "outputs": [
    {
     "data": {
      "image/png": "[encoded data removed]",
      "text/plain": "<Figure size 720x360 with 2 Axes>"
     },
     "metadata": {},
     "output_type": "display_data"
    }
   ],
   "source": [
    "fig, (ax1, ax2) = plt.subplots(1, 2, figsize=(10, 5))\n",
    "tweet_length = train[train['target']==1]['text'].str.len()\n",
    "ax1.hist(tweet_length, color='red')\n",
    "ax1.set_title('desastres')\n",
    "tweet_length=train[train['target']==0]['text'].str.len()\n",
    "ax2.hist(tweet_length, color='blue')\n",
    "ax2.set_title('no desastres')\n",
    "fig.suptitle('Cantidad de caracteres del tweet')\n",
    "plt.show()"
   ]
  },
  {
   "cell_type": "markdown",
   "metadata": {},
   "source": [
    "### Cantidad de palabras en el tweet"
   ]
  },
  {
   "cell_type": "code",
   "execution_count": 125,
   "metadata": {},
   "outputs": [
    {
     "data": {
      "image/png": "[encoded data removed]",
      "text/plain": "<Figure size 720x360 with 2 Axes>"
     },
     "metadata": {},
     "output_type": "display_data"
    }
   ],
   "source": [
    "fig,(ax1,ax2)=plt.subplots(1,2,figsize=(10,5))\n",
    "tweet_length=train[train['target']==1]['text'].str.split().map(lambda x: len(x))\n",
    "ax1.hist(tweet_length,color='red')\n",
    "ax1.set_title('desastres')\n",
    "tweet_length=train[train['target']==0]['text'].str.split().map(lambda x: len(x))\n",
    "ax2.hist(tweet_length,color='blue')\n",
    "ax2.set_title('no desastres')\n",
    "fig.suptitle('Cantidad de palabras')\n",
    "plt.show()"
   ]
  },
  {
   "cell_type": "markdown",
   "metadata": {},
   "source": [
    "### Promedio de longitud de las palabras"
   ]
  },
  {
   "cell_type": "code",
   "execution_count": 126,
   "metadata": {},
   "outputs": [
    {
     "name": "stderr",
     "output_type": "stream",
     "text": [
      "C:\\Users\\reque\\AppData\\Local\\Packages\\PythonSoftwareFoundation.Python.3.10_qbz5n2kfra8p0\\LocalCache\\local-packages\\Python310\\site-packages\\seaborn\\distributions.py:2619: FutureWarning: `distplot` is a deprecated function and will be removed in a future version. Please adapt your code to use either `displot` (a figure-level function with similar flexibility) or `histplot` (an axes-level function for histograms).\n",
      "  warnings.warn(msg, FutureWarning)\n",
      "C:\\Users\\reque\\AppData\\Local\\Packages\\PythonSoftwareFoundation.Python.3.10_qbz5n2kfra8p0\\LocalCache\\local-packages\\Python310\\site-packages\\seaborn\\distributions.py:2619: FutureWarning: `distplot` is a deprecated function and will be removed in a future version. Please adapt your code to use either `displot` (a figure-level function with similar flexibility) or `histplot` (an axes-level function for histograms).\n",
      "  warnings.warn(msg, FutureWarning)\n"
     ]
    },
    {
     "data": {
      "text/plain": "Text(0.5, 0.98, 'Promedio de largo de las palabras en los tweets')"
     },
     "execution_count": 126,
     "metadata": {},
     "output_type": "execute_result"
    },
    {
     "data": {
      "image/png": "[encoded data removed]",
      "text/plain": "<Figure size 720x360 with 2 Axes>"
     },
     "metadata": {},
     "output_type": "display_data"
    }
   ],
   "source": [
    "fig,(ax1,ax2)=plt.subplots(1,2,figsize=(10,5))\n",
    "word=train[train['target']==1]['text'].str.split().apply(lambda x : [len(i) for i in x])\n",
    "sns.distplot(word.map(lambda x: np.mean(x)),ax=ax1,color='red')\n",
    "ax1.set_title('desastres')\n",
    "word=train[train['target']==0]['text'].str.split().apply(lambda x : [len(i) for i in x])\n",
    "sns.distplot(word.map(lambda x: np.mean(x)),ax=ax2,color='blue')\n",
    "ax2.set_title('no desastres')\n",
    "fig.suptitle('Promedio de largo de las palabras en los tweets')"
   ]
  },
  {
   "cell_type": "code",
   "execution_count": 127,
   "metadata": {},
   "outputs": [],
   "source": [
    "def create_corpus(target):\n",
    "    corpus=[]\n",
    "    \n",
    "    for x in train[train['target']==target]['text'].str.split():\n",
    "        for i in x:\n",
    "            corpus.append(i)\n",
    "    return corpus"
   ]
  },
  {
   "cell_type": "markdown",
   "metadata": {},
   "source": [
    "### Palabra vacias (stopwords) en los tweets "
   ]
  },
  {
   "cell_type": "markdown",
   "metadata": {},
   "source": [
    "#### Para no desastres"
   ]
  },
  {
   "cell_type": "code",
   "execution_count": 128,
   "metadata": {},
   "outputs": [],
   "source": [
    "corpus=create_corpus(0)\n",
    "\n",
    "dic=defaultdict(int)\n",
    "for word in corpus:\n",
    "    if word in stop:\n",
    "        dic[word]+=1\n",
    "        \n",
    "top=sorted(dic.items(), key=lambda x:x[1],reverse=True)[:10] "
   ]
  },
  {
   "cell_type": "code",
   "execution_count": 129,
   "metadata": {},
   "outputs": [
    {
     "data": {
      "text/plain": "<BarContainer object of 10 artists>"
     },
     "execution_count": 129,
     "metadata": {},
     "output_type": "execute_result"
    },
    {
     "data": {
      "image/png": "[encoded data removed]",
      "text/plain": "<Figure size 432x288 with 1 Axes>"
     },
     "metadata": {},
     "output_type": "display_data"
    }
   ],
   "source": [
    "x,y=zip(*top)\n",
    "plt.bar(x,y, color='blue')"
   ]
  },
  {
   "cell_type": "markdown",
   "metadata": {},
   "source": [
    "#### Tweets de desastres"
   ]
  },
  {
   "cell_type": "code",
   "execution_count": 130,
   "metadata": {},
   "outputs": [],
   "source": [
    "corpus=create_corpus(1)\n",
    "\n",
    "dic=defaultdict(int)\n",
    "for word in corpus:\n",
    "    if word in stop:\n",
    "        dic[word]+=1\n",
    "\n",
    "top=sorted(dic.items(), key=lambda x:x[1],reverse=True)[:10]"
   ]
  },
  {
   "cell_type": "code",
   "execution_count": 131,
   "metadata": {},
   "outputs": [
    {
     "data": {
      "text/plain": "<BarContainer object of 10 artists>"
     },
     "execution_count": 131,
     "metadata": {},
     "output_type": "execute_result"
    },
    {
     "data": {
      "image/png": "[encoded data removed]",
      "text/plain": "<Figure size 432x288 with 1 Axes>"
     },
     "metadata": {},
     "output_type": "display_data"
    }
   ],
   "source": [
    "x,y=zip(*top)\n",
    "plt.bar(x,y)"
   ]
  },
  {
   "cell_type": "markdown",
   "metadata": {},
   "source": [
    "### Analisis de puntuacion"
   ]
  },
  {
   "cell_type": "markdown",
   "metadata": {},
   "source": [
    "#### Desastres"
   ]
  },
  {
   "cell_type": "code",
   "execution_count": 132,
   "metadata": {},
   "outputs": [
    {
     "data": {
      "text/plain": "<Figure size 720x360 with 0 Axes>"
     },
     "metadata": {},
     "output_type": "display_data"
    }
   ],
   "source": [
    "plt.figure(figsize=(10,5))\n",
    "corpus=create_corpus(1)\n",
    "\n",
    "dic=defaultdict(int)\n",
    "import string\n",
    "special = string.punctuation\n",
    "for i in (corpus):\n",
    "    if i in special:\n",
    "        dic[i]+=1"
   ]
  },
  {
   "cell_type": "code",
   "execution_count": 133,
   "metadata": {},
   "outputs": [
    {
     "data": {
      "text/plain": "<BarContainer object of 18 artists>"
     },
     "execution_count": 133,
     "metadata": {},
     "output_type": "execute_result"
    },
    {
     "data": {
      "image/png": "[encoded data removed]",
      "text/plain": "<Figure size 432x288 with 1 Axes>"
     },
     "metadata": {},
     "output_type": "display_data"
    }
   ],
   "source": [
    "x,y=zip(*dic.items())\n",
    "plt.bar(x,y)"
   ]
  },
  {
   "cell_type": "markdown",
   "metadata": {},
   "source": [
    "#### No desastres"
   ]
  },
  {
   "cell_type": "code",
   "execution_count": 134,
   "metadata": {},
   "outputs": [
    {
     "data": {
      "text/plain": "<Figure size 720x360 with 0 Axes>"
     },
     "metadata": {},
     "output_type": "display_data"
    }
   ],
   "source": [
    "plt.figure(figsize=(10,5))\n",
    "corpus=create_corpus(0)\n",
    "\n",
    "dic=defaultdict(int)\n",
    "import string\n",
    "special = string.punctuation\n",
    "for i in (corpus):\n",
    "    if i in special:\n",
    "        dic[i]+=1"
   ]
  },
  {
   "cell_type": "code",
   "execution_count": 135,
   "metadata": {},
   "outputs": [
    {
     "data": {
      "text/plain": "<BarContainer object of 20 artists>"
     },
     "execution_count": 135,
     "metadata": {},
     "output_type": "execute_result"
    },
    {
     "data": {
      "image/png": "[encoded data removed]",
      "text/plain": "<Figure size 432x288 with 1 Axes>"
     },
     "metadata": {},
     "output_type": "display_data"
    }
   ],
   "source": [
    "x,y=zip(*dic.items())\n",
    "plt.bar(x,y,color='blue')"
   ]
  },
  {
   "cell_type": "markdown",
   "metadata": {},
   "source": [
    "### Palabras comunes"
   ]
  },
  {
   "cell_type": "code",
   "execution_count": 136,
   "metadata": {},
   "outputs": [
    {
     "data": {
      "text/plain": "<AxesSubplot:>"
     },
     "execution_count": 136,
     "metadata": {},
     "output_type": "execute_result"
    },
    {
     "data": {
      "image/png": "[encoded data removed]",
      "text/plain": "<Figure size 432x288 with 1 Axes>"
     },
     "metadata": {},
     "output_type": "display_data"
    }
   ],
   "source": [
    "counter=Counter(corpus)\n",
    "most=counter.most_common()\n",
    "x=[]\n",
    "y=[]\n",
    "for word,count in most[:40]:\n",
    "    if (word not in stop) :\n",
    "        x.append(word)\n",
    "        y.append(count)\n",
    "\n",
    "sns.barplot(x=y,y=x)"
   ]
  },
  {
   "cell_type": "markdown",
   "metadata": {},
   "source": [
    "### Analisis ngramas"
   ]
  },
  {
   "cell_type": "markdown",
   "metadata": {},
   "source": [
    "#### Bigrama (n=2)"
   ]
  },
  {
   "cell_type": "code",
   "execution_count": 137,
   "metadata": {},
   "outputs": [],
   "source": [
    "def get_top_tweet_bigrams(corpus, n=None):\n",
    "    vec = CountVectorizer(ngram_range=(2, 2)).fit(corpus)\n",
    "    bag_of_words = vec.transform(corpus)\n",
    "    sum_words = bag_of_words.sum(axis=0) \n",
    "    words_freq = [(word, sum_words[0, idx]) for word, idx in vec.vocabulary_.items()]\n",
    "    words_freq =sorted(words_freq, key = lambda x: x[1], reverse=True)\n",
    "    return words_freq[:n]"
   ]
  },
  {
   "cell_type": "code",
   "execution_count": 138,
   "metadata": {},
   "outputs": [
    {
     "data": {
      "text/plain": "<AxesSubplot:>"
     },
     "execution_count": 138,
     "metadata": {},
     "output_type": "execute_result"
    },
    {
     "data": {
      "image/png": "[encoded data removed]",
      "text/plain": "<Figure size 720x360 with 1 Axes>"
     },
     "metadata": {},
     "output_type": "display_data"
    }
   ],
   "source": [
    "plt.figure(figsize=(10,5))\n",
    "top_tweet_bigrams=get_top_tweet_bigrams(train['text'])[:10]\n",
    "x,y=map(list,zip(*top_tweet_bigrams))\n",
    "sns.barplot(x=y,y=x)"
   ]
  },
  {
   "cell_type": "markdown",
   "metadata": {},
   "source": [
    "#### Trigrama"
   ]
  },
  {
   "cell_type": "code",
   "execution_count": 139,
   "metadata": {},
   "outputs": [],
   "source": [
    "def get_top_tweet_trigrams(corpus, n=None):\n",
    "    vec = CountVectorizer(ngram_range=(3, 3)).fit(corpus)\n",
    "    bag_of_words = vec.transform(corpus)\n",
    "    sum_words = bag_of_words.sum(axis=0) \n",
    "    words_freq = [(word, sum_words[0, idx]) for word, idx in vec.vocabulary_.items()]\n",
    "    words_freq =sorted(words_freq, key = lambda x: x[1], reverse=True)\n",
    "    return words_freq[:n]"
   ]
  },
  {
   "cell_type": "code",
   "execution_count": 140,
   "metadata": {},
   "outputs": [
    {
     "data": {
      "text/plain": "<AxesSubplot:>"
     },
     "execution_count": 140,
     "metadata": {},
     "output_type": "execute_result"
    },
    {
     "data": {
      "image/png": "[encoded data removed]",
      "text/plain": "<Figure size 720x360 with 1 Axes>"
     },
     "metadata": {},
     "output_type": "display_data"
    }
   ],
   "source": [
    "plt.figure(figsize=(10,5))\n",
    "top_tweet_trigrams=get_top_tweet_trigrams(train['text'])[:10]\n",
    "x,y=map(list,zip(*top_tweet_trigrams))\n",
    "sns.barplot(x=y,y=x)"
   ]
  },
  {
   "cell_type": "markdown",
   "metadata": {},
   "source": [
    "## Limpieza de los datos"
   ]
  },
  {
   "cell_type": "code",
   "execution_count": 141,
   "metadata": {},
   "outputs": [
    {
     "data": {
      "text/plain": "(10876, 5)"
     },
     "execution_count": 141,
     "metadata": {},
     "output_type": "execute_result"
    }
   ],
   "source": [
    "union = pd.concat([train, test])\n",
    "union.shape"
   ]
  },
  {
   "cell_type": "markdown",
   "metadata": {},
   "source": [
    "### Quitar URLs"
   ]
  },
  {
   "cell_type": "code",
   "execution_count": 142,
   "metadata": {},
   "outputs": [],
   "source": [
    "def remove_URL(text):\n",
    "  url = re.compile(r'https?://\\S+|www\\.\\S+')\n",
    "  return url.sub(r'', text)"
   ]
  },
  {
   "cell_type": "code",
   "execution_count": 143,
   "metadata": {},
   "outputs": [],
   "source": [
    "union['text'] = union['text'].apply(lambda x : remove_URL(x))"
   ]
  },
  {
   "cell_type": "markdown",
   "metadata": {},
   "source": [
    "### Quitar tags HTML"
   ]
  },
  {
   "cell_type": "code",
   "execution_count": 144,
   "metadata": {},
   "outputs": [],
   "source": [
    "def remove_HTML(text):\n",
    "  html = re.compile(r'<.*?>')\n",
    "  return html.sub(r'', text)"
   ]
  },
  {
   "cell_type": "code",
   "execution_count": 145,
   "metadata": {},
   "outputs": [],
   "source": [
    "union['text'] = union['text'].apply(lambda x : remove_HTML(x))"
   ]
  },
  {
   "cell_type": "markdown",
   "metadata": {},
   "source": [
    "### Quitar emojis"
   ]
  },
  {
   "cell_type": "code",
   "execution_count": 146,
   "metadata": {},
   "outputs": [],
   "source": [
    "def remove_emoji(text):\n",
    "    emoji_pattern = re.compile(\"[\"\n",
    "                           u\"\\U0001F600-\\U0001F64F\"  # emoticons\n",
    "                           u\"\\U0001F300-\\U0001F5FF\"  # symbols & pictographs\n",
    "                           u\"\\U0001F680-\\U0001F6FF\"  # transport & map symbols\n",
    "                           u\"\\U0001F1E0-\\U0001F1FF\"  # flags (iOS)\n",
    "                           u\"\\U00002702-\\U000027B0\"\n",
    "                           u\"\\U000024C2-\\U0001F251\"\n",
    "                           \"]+\", flags=re.UNICODE)\n",
    "    return emoji_pattern.sub(r'', text)"
   ]
  },
  {
   "cell_type": "code",
   "execution_count": 147,
   "metadata": {},
   "outputs": [],
   "source": [
    "union['text'] = union['text'].apply(lambda x : remove_emoji(x))"
   ]
  },
  {
   "cell_type": "markdown",
   "metadata": {},
   "source": [
    "### Quitar puntuacion"
   ]
  },
  {
   "cell_type": "code",
   "execution_count": 148,
   "metadata": {},
   "outputs": [],
   "source": [
    "def remove_point(text):\n",
    "  table = str.maketrans('', '', string.punctuation)\n",
    "  return text.translate(table)"
   ]
  },
  {
   "cell_type": "code",
   "execution_count": 149,
   "metadata": {},
   "outputs": [],
   "source": [
    "union['text'] = union['text'].apply(lambda x : remove_point(x))"
   ]
  },
  {
   "cell_type": "markdown",
   "metadata": {},
   "source": [
    "### Corregir errores de ortografia"
   ]
  },
  {
   "cell_type": "code",
   "execution_count": 150,
   "metadata": {},
   "outputs": [],
   "source": [
    "from spellchecker import SpellChecker\n",
    "\n",
    "spell = SpellChecker()\n",
    "def correct_spelling(text):\n",
    "  corrected_str = []\n",
    "  misspelled_str = spell.unknown(text.split())\n",
    "  for word in text.split():\n",
    "    if word in misspelled_str:\n",
    "      corrected_str.append(spell.correction(word))\n",
    "    else:\n",
    "      corrected_str.append(word)\n",
    "  return \" \".join(corrected_str)"
   ]
  },
  {
   "cell_type": "code",
   "execution_count": 151,
   "metadata": {},
   "outputs": [],
   "source": [
    "# union['text'] = union['text'].apply(lambda x : correct_spelling(x))"
   ]
  },
  {
   "cell_type": "markdown",
   "metadata": {},
   "source": [
    "## Analisis post limpieza"
   ]
  },
  {
   "cell_type": "markdown",
   "metadata": {},
   "source": [
    "### Palabras comunes"
   ]
  },
  {
   "cell_type": "code",
   "execution_count": 152,
   "metadata": {},
   "outputs": [
    {
     "data": {
      "text/plain": "<AxesSubplot:>"
     },
     "execution_count": 152,
     "metadata": {},
     "output_type": "execute_result"
    },
    {
     "data": {
      "image/png": "[encoded data removed]",
      "text/plain": "<Figure size 432x288 with 1 Axes>"
     },
     "metadata": {},
     "output_type": "display_data"
    }
   ],
   "source": [
    "counter=Counter(corpus)\n",
    "most=counter.most_common()\n",
    "x=[]\n",
    "y=[]\n",
    "for word,count in most[:40]:\n",
    "    if (word not in stop) :\n",
    "        x.append(word)\n",
    "        y.append(count)\n",
    "\n",
    "sns.barplot(x=y,y=x)"
   ]
  },
  {
   "cell_type": "markdown",
   "metadata": {},
   "source": [
    "### Analisis ngramas"
   ]
  },
  {
   "cell_type": "markdown",
   "metadata": {},
   "source": [
    "#### Bigrama (n=2)"
   ]
  },
  {
   "cell_type": "code",
   "execution_count": 153,
   "metadata": {},
   "outputs": [],
   "source": [
    "def get_top_tweet_bigrams(corpus, n=None):\n",
    "    vec = CountVectorizer(ngram_range=(2, 2)).fit(corpus)\n",
    "    bag_of_words = vec.transform(corpus)\n",
    "    sum_words = bag_of_words.sum(axis=0) \n",
    "    words_freq = [(word, sum_words[0, idx]) for word, idx in vec.vocabulary_.items()]\n",
    "    words_freq =sorted(words_freq, key = lambda x: x[1], reverse=True)\n",
    "    return words_freq[:n]"
   ]
  },
  {
   "cell_type": "code",
   "execution_count": 154,
   "metadata": {},
   "outputs": [
    {
     "data": {
      "text/plain": "<AxesSubplot:>"
     },
     "execution_count": 154,
     "metadata": {},
     "output_type": "execute_result"
    },
    {
     "data": {
      "image/png": "[encoded data removed]",
      "text/plain": "<Figure size 720x360 with 1 Axes>"
     },
     "metadata": {},
     "output_type": "display_data"
    }
   ],
   "source": [
    "plt.figure(figsize=(10,5))\n",
    "top_tweet_bigrams=get_top_tweet_bigrams(train['text'])[:10]\n",
    "x,y=map(list,zip(*top_tweet_bigrams))\n",
    "sns.barplot(x=y,y=x)"
   ]
  },
  {
   "cell_type": "markdown",
   "metadata": {},
   "source": [
    "#### Trigrama"
   ]
  },
  {
   "cell_type": "code",
   "execution_count": 155,
   "metadata": {},
   "outputs": [],
   "source": [
    "def get_top_tweet_trigrams(corpus, n=None):\n",
    "    vec = CountVectorizer(ngram_range=(3, 3)).fit(corpus)\n",
    "    bag_of_words = vec.transform(corpus)\n",
    "    sum_words = bag_of_words.sum(axis=0) \n",
    "    words_freq = [(word, sum_words[0, idx]) for word, idx in vec.vocabulary_.items()]\n",
    "    words_freq =sorted(words_freq, key = lambda x: x[1], reverse=True)\n",
    "    return words_freq[:n]"
   ]
  },
  {
   "cell_type": "code",
   "execution_count": 156,
   "metadata": {},
   "outputs": [
    {
     "data": {
      "text/plain": "<AxesSubplot:>"
     },
     "execution_count": 156,
     "metadata": {},
     "output_type": "execute_result"
    },
    {
     "data": {
      "image/png": "[encoded data removed]",
      "text/plain": "<Figure size 720x360 with 1 Axes>"
     },
     "metadata": {},
     "output_type": "display_data"
    }
   ],
   "source": [
    "plt.figure(figsize=(10,5))\n",
    "top_tweet_trigrams=get_top_tweet_trigrams(train['text'])[:10]\n",
    "x,y=map(list,zip(*top_tweet_trigrams))\n",
    "sns.barplot(x=y,y=x)"
   ]
  },
  {
   "cell_type": "code",
   "execution_count": 157,
   "metadata": {},
   "outputs": [],
   "source": [
    "stopwords = nltk.corpus.stopwords.words(\"english\")"
   ]
  },
  {
   "cell_type": "markdown",
   "metadata": {},
   "source": [
    "## Analisis polaridad"
   ]
  },
  {
   "cell_type": "markdown",
   "metadata": {},
   "source": [
    "Para determinar las palabras positivas, negativas y neutras, se utiliza Vader Lexicon (vader_lexicon) de la libreria NLTK."
   ]
  },
  {
   "cell_type": "markdown",
   "metadata": {},
   "source": [
    "### Determinacion de valor del tweet"
   ]
  },
  {
   "cell_type": "code",
   "execution_count": 158,
   "metadata": {},
   "outputs": [],
   "source": [
    "sia = SentimentIntensityAnalyzer()"
   ]
  },
  {
   "cell_type": "code",
   "execution_count": 159,
   "metadata": {},
   "outputs": [],
   "source": [
    "def getScoreText(text):\n",
    "    scoreObject = sia.polarity_scores(text)\n",
    "    score = scoreObject['compound']\n",
    "    return score"
   ]
  },
  {
   "cell_type": "code",
   "execution_count": 160,
   "metadata": {},
   "outputs": [],
   "source": [
    "train['score'] = train['text'].apply(lambda x : getScoreText(x))\r\n",
    "union['score'] = union['text'].apply(lambda x : getScoreText(x))"
   ]
  },
  {
   "cell_type": "markdown",
   "metadata": {},
   "source": [
    "### De acuerdo al valor asignado, se definen los tweets como negativos, neutrales o positivos"
   ]
  },
  {
   "cell_type": "code",
   "execution_count": 161,
   "metadata": {},
   "outputs": [],
   "source": [
    "#rangos de score\n",
    "def setPolarity(score):\n",
    "    if score < -0.33:\n",
    "        return 'negative'\n",
    "    elif score > 0.33:\n",
    "        return 'positive'\n",
    "    else:\n",
    "        return 'neutral'"
   ]
  },
  {
   "cell_type": "code",
   "execution_count": 162,
   "metadata": {},
   "outputs": [],
   "source": [
    "train['polarity'] = train['score'].apply(lambda x : setPolarity(x))\r\n",
    "union['polarity'] = union['score'].apply(lambda x : setPolarity(x))"
   ]
  },
  {
   "cell_type": "markdown",
   "metadata": {},
   "source": [
    "### Determinacion de los tweets mas negativos y mas positivos"
   ]
  },
  {
   "cell_type": "markdown",
   "metadata": {},
   "source": [
    "#### 10 tweets mas negativos"
   ]
  },
  {
   "cell_type": "code",
   "execution_count": 163,
   "metadata": {},
   "outputs": [
    {
     "data": {
      "text/html": "<div>\n<style scoped>\n    .dataframe tbody tr th:only-of-type {\n        vertical-align: middle;\n    }\n\n    .dataframe tbody tr th {\n        vertical-align: top;\n    }\n\n    .dataframe thead th {\n        text-align: right;\n    }\n</style>\n<table border=\"1\" class=\"dataframe\">\n  <thead>\n    <tr style=\"text-align: right;\">\n      <th></th>\n      <th>id</th>\n      <th>keyword</th>\n      <th>location</th>\n      <th>text</th>\n      <th>target</th>\n      <th>score</th>\n      <th>polarity</th>\n    </tr>\n  </thead>\n  <tbody>\n    <tr>\n      <th>7472</th>\n      <td>10689</td>\n      <td>wreck</td>\n      <td>NaN</td>\n      <td>wreck? wreck wreck wreck wreck wreck wreck wre...</td>\n      <td>0</td>\n      <td>-0.9883</td>\n      <td>negative</td>\n    </tr>\n    <tr>\n      <th>6414</th>\n      <td>9172</td>\n      <td>suicide%20bomber</td>\n      <td>NaN</td>\n      <td>@Abu_Baraa1 Suicide bomber targets Saudi mosqu...</td>\n      <td>1</td>\n      <td>-0.9686</td>\n      <td>negative</td>\n    </tr>\n    <tr>\n      <th>6411</th>\n      <td>9166</td>\n      <td>suicide%20bomber</td>\n      <td>NaN</td>\n      <td>Suicide bomber kills 15 in Saudi security site...</td>\n      <td>1</td>\n      <td>-0.9623</td>\n      <td>negative</td>\n    </tr>\n    <tr>\n      <th>6393</th>\n      <td>9137</td>\n      <td>suicide%20bomb</td>\n      <td>Worldwide</td>\n      <td>? 19th Day Since 17-Jul-2015 -- Nigeria: Suici...</td>\n      <td>1</td>\n      <td>-0.9595</td>\n      <td>negative</td>\n    </tr>\n    <tr>\n      <th>6407</th>\n      <td>9159</td>\n      <td>suicide%20bomber</td>\n      <td>Worldwide</td>\n      <td>17 killed in SÛªArabia mosque suicide bombing...</td>\n      <td>1</td>\n      <td>-0.9552</td>\n      <td>negative</td>\n    </tr>\n    <tr>\n      <th>2932</th>\n      <td>4213</td>\n      <td>drowned</td>\n      <td>Pembroke NH</td>\n      <td>at the lake \\r\\n*sees a dead fish*\\r\\nme: poor...</td>\n      <td>0</td>\n      <td>-0.9549</td>\n      <td>negative</td>\n    </tr>\n    <tr>\n      <th>472</th>\n      <td>682</td>\n      <td>attack</td>\n      <td>portland, oregon</td>\n      <td>illegal alien released by Obama/DHS 4 times Ch...</td>\n      <td>1</td>\n      <td>-0.9538</td>\n      <td>negative</td>\n    </tr>\n    <tr>\n      <th>1540</th>\n      <td>2225</td>\n      <td>chemical%20emergency</td>\n      <td>Las Vegas, Nevada</td>\n      <td>Bomb Crash Loot Riot Emergency Pipe Bomb Nucle...</td>\n      <td>1</td>\n      <td>-0.9524</td>\n      <td>negative</td>\n    </tr>\n    <tr>\n      <th>6818</th>\n      <td>9765</td>\n      <td>trapped</td>\n      <td>10 Steps Ahead.  Cloud 9</td>\n      <td>Bomb head? Explosive decisions dat produced mo...</td>\n      <td>1</td>\n      <td>-0.9500</td>\n      <td>negative</td>\n    </tr>\n    <tr>\n      <th>6930</th>\n      <td>9940</td>\n      <td>trouble</td>\n      <td>NaN</td>\n      <td>@cspan #Prez. Mr. President you are the bigges...</td>\n      <td>1</td>\n      <td>-0.9493</td>\n      <td>negative</td>\n    </tr>\n  </tbody>\n</table>\n</div>",
      "text/plain": "         id               keyword                  location  \\\n7472  10689                 wreck                       NaN   \n6414   9172      suicide%20bomber                       NaN   \n6411   9166      suicide%20bomber                       NaN   \n6393   9137        suicide%20bomb                 Worldwide   \n6407   9159      suicide%20bomber                 Worldwide   \n2932   4213               drowned               Pembroke NH   \n472     682                attack          portland, oregon   \n1540   2225  chemical%20emergency         Las Vegas, Nevada   \n6818   9765               trapped  10 Steps Ahead.  Cloud 9   \n6930   9940               trouble                       NaN   \n\n                                                   text  target   score  \\\n7472  wreck? wreck wreck wreck wreck wreck wreck wre...       0 -0.9883   \n6414  @Abu_Baraa1 Suicide bomber targets Saudi mosqu...       1 -0.9686   \n6411  Suicide bomber kills 15 in Saudi security site...       1 -0.9623   \n6393  ? 19th Day Since 17-Jul-2015 -- Nigeria: Suici...       1 -0.9595   \n6407  17 killed in SÛªArabia mosque suicide bombing...       1 -0.9552   \n2932  at the lake \\r\\n*sees a dead fish*\\r\\nme: poor...       0 -0.9549   \n472   illegal alien released by Obama/DHS 4 times Ch...       1 -0.9538   \n1540  Bomb Crash Loot Riot Emergency Pipe Bomb Nucle...       1 -0.9524   \n6818  Bomb head? Explosive decisions dat produced mo...       1 -0.9500   \n6930  @cspan #Prez. Mr. President you are the bigges...       1 -0.9493   \n\n      polarity  \n7472  negative  \n6414  negative  \n6411  negative  \n6393  negative  \n6407  negative  \n2932  negative  \n472   negative  \n1540  negative  \n6818  negative  \n6930  negative  "
     },
     "execution_count": 163,
     "metadata": {},
     "output_type": "execute_result"
    }
   ],
   "source": [
    "train.sort_values(by=['score']).head(10)"
   ]
  },
  {
   "cell_type": "markdown",
   "metadata": {},
   "source": [
    "De los 10 tweets mas negativos, 8 de ellos hacen referencia a un desastre real"
   ]
  },
  {
   "cell_type": "markdown",
   "metadata": {},
   "source": [
    "#### 10 tweets mas positivos"
   ]
  },
  {
   "cell_type": "code",
   "execution_count": 164,
   "metadata": {},
   "outputs": [
    {
     "data": {
      "text/html": "<div>\n<style scoped>\n    .dataframe tbody tr th:only-of-type {\n        vertical-align: middle;\n    }\n\n    .dataframe tbody tr th {\n        vertical-align: top;\n    }\n\n    .dataframe thead th {\n        text-align: right;\n    }\n</style>\n<table border=\"1\" class=\"dataframe\">\n  <thead>\n    <tr style=\"text-align: right;\">\n      <th></th>\n      <th>id</th>\n      <th>keyword</th>\n      <th>location</th>\n      <th>text</th>\n      <th>target</th>\n      <th>score</th>\n      <th>polarity</th>\n    </tr>\n  </thead>\n  <tbody>\n    <tr>\n      <th>6992</th>\n      <td>10028</td>\n      <td>twister</td>\n      <td>NaN</td>\n      <td>Check out 'Want Twister Tickets AND A VIP EXPE...</td>\n      <td>0</td>\n      <td>0.9730</td>\n      <td>positive</td>\n    </tr>\n    <tr>\n      <th>6534</th>\n      <td>9345</td>\n      <td>survived</td>\n      <td>Texas, USA</td>\n      <td>@thoutaylorbrown I feel like accidents are jus...</td>\n      <td>0</td>\n      <td>0.9564</td>\n      <td>positive</td>\n    </tr>\n    <tr>\n      <th>6292</th>\n      <td>8989</td>\n      <td>storm</td>\n      <td>NaN</td>\n      <td>TodayÛªs storm will pass; let tomorrowÛªs li...</td>\n      <td>1</td>\n      <td>0.9471</td>\n      <td>positive</td>\n    </tr>\n    <tr>\n      <th>3382</th>\n      <td>4844</td>\n      <td>evacuation</td>\n      <td>Renfrew, Scotland</td>\n      <td>@batfanuk we enjoyed the show today. Great fun...</td>\n      <td>0</td>\n      <td>0.9423</td>\n      <td>positive</td>\n    </tr>\n    <tr>\n      <th>3163</th>\n      <td>4541</td>\n      <td>emergency</td>\n      <td>Renfrew, Scotland</td>\n      <td>@batfanuk we enjoyed the show today. Great fun...</td>\n      <td>0</td>\n      <td>0.9423</td>\n      <td>positive</td>\n    </tr>\n    <tr>\n      <th>6778</th>\n      <td>9710</td>\n      <td>tragedy</td>\n      <td>NaN</td>\n      <td>Maaaaan I love Love Without Tragedy by @rihann...</td>\n      <td>0</td>\n      <td>0.9394</td>\n      <td>positive</td>\n    </tr>\n    <tr>\n      <th>6295</th>\n      <td>8994</td>\n      <td>stretcher</td>\n      <td>NaN</td>\n      <td>Free Ebay Sniping RT? http://t.co/B231Ul1O1K L...</td>\n      <td>0</td>\n      <td>0.9376</td>\n      <td>positive</td>\n    </tr>\n    <tr>\n      <th>2457</th>\n      <td>3525</td>\n      <td>derailment</td>\n      <td>UK</td>\n      <td>@Raishimi33 :) well I think that sounds like a...</td>\n      <td>1</td>\n      <td>0.9356</td>\n      <td>positive</td>\n    </tr>\n    <tr>\n      <th>1001</th>\n      <td>1453</td>\n      <td>body%20bagging</td>\n      <td>NaN</td>\n      <td>I'm not a Drake fan but I enjoy seeing him bod...</td>\n      <td>0</td>\n      <td>0.9345</td>\n      <td>positive</td>\n    </tr>\n    <tr>\n      <th>6560</th>\n      <td>9386</td>\n      <td>survived</td>\n      <td>Puerto Rico</td>\n      <td>@duchovbutt @Starbuck_Scully @MadMakNY @davidd...</td>\n      <td>0</td>\n      <td>0.9344</td>\n      <td>positive</td>\n    </tr>\n  </tbody>\n</table>\n</div>",
      "text/plain": "         id         keyword           location  \\\n6992  10028         twister                NaN   \n6534   9345        survived         Texas, USA   \n6292   8989           storm                NaN   \n3382   4844      evacuation  Renfrew, Scotland   \n3163   4541       emergency  Renfrew, Scotland   \n6778   9710         tragedy                NaN   \n6295   8994       stretcher                NaN   \n2457   3525      derailment                 UK   \n1001   1453  body%20bagging                NaN   \n6560   9386        survived        Puerto Rico   \n\n                                                   text  target   score  \\\n6992  Check out 'Want Twister Tickets AND A VIP EXPE...       0  0.9730   \n6534  @thoutaylorbrown I feel like accidents are jus...       0  0.9564   \n6292  TodayÛªs storm will pass; let tomorrowÛªs li...       1  0.9471   \n3382  @batfanuk we enjoyed the show today. Great fun...       0  0.9423   \n3163  @batfanuk we enjoyed the show today. Great fun...       0  0.9423   \n6778  Maaaaan I love Love Without Tragedy by @rihann...       0  0.9394   \n6295  Free Ebay Sniping RT? http://t.co/B231Ul1O1K L...       0  0.9376   \n2457  @Raishimi33 :) well I think that sounds like a...       1  0.9356   \n1001  I'm not a Drake fan but I enjoy seeing him bod...       0  0.9345   \n6560  @duchovbutt @Starbuck_Scully @MadMakNY @davidd...       0  0.9344   \n\n      polarity  \n6992  positive  \n6534  positive  \n6292  positive  \n3382  positive  \n3163  positive  \n6778  positive  \n6295  positive  \n2457  positive  \n1001  positive  \n6560  positive  "
     },
     "execution_count": 164,
     "metadata": {},
     "output_type": "execute_result"
    }
   ],
   "source": [
    "train.sort_values(by=['score'], ascending=False).head(10)"
   ]
  },
  {
   "cell_type": "markdown",
   "metadata": {},
   "source": [
    "De los 10 tweets mas positivos, 8 de ellos hacen no referencia a un desastre real"
   ]
  },
  {
   "cell_type": "markdown",
   "metadata": {},
   "source": [
    "### Categorizacion negatividad/desastre"
   ]
  },
  {
   "cell_type": "code",
   "execution_count": 165,
   "metadata": {},
   "outputs": [
    {
     "data": {
      "text/plain": "polarity  target\nnegative  0         1428\n          1         1603\nneutral   0         1908\n          1         1316\npositive  0         1006\n          1          352\ndtype: int64"
     },
     "execution_count": 165,
     "metadata": {},
     "output_type": "execute_result"
    }
   ],
   "source": [
    "grouped = train.groupby(['polarity', 'target'])\r\n",
    "grouped.size()"
   ]
  },
  {
   "cell_type": "markdown",
   "metadata": {},
   "source": [
    "Con los resultados obtenidos: <br>  - Para una polaridad negativa, si es un indicador para saber si se trata de un desastre. <br>  - Para una polaridad positiva, es un indicador para saber si se trata de un no desastre <br>  - Para una polaridad neutral, no es el mejor indicador, pero si puede dar indicios"
   ]
  },
  {
   "cell_type": "markdown",
   "metadata": {},
   "source": [
    "## Modelo"
   ]
  },
  {
   "cell_type": "code",
   "execution_count": 166,
   "metadata": {},
   "outputs": [],
   "source": [
    "def create_corpus(df):\r\n",
    "    corpus=[]\r\n",
    "    for tweet in tqdm(df['text']):\r\n",
    "        words=[word.lower() for word in word_tokenize(tweet) if((word.isalpha()==1) & (word not in stop))]\r\n",
    "        corpus.append(words)\r\n",
    "    return corpus"
   ]
  },
  {
   "cell_type": "code",
   "execution_count": 167,
   "metadata": {},
   "outputs": [
    {
     "name": "stderr",
     "output_type": "stream",
     "text": [
      "100%|██████████| 10876/10876 [00:01<00:00, 5504.53it/s]\n"
     ]
    }
   ],
   "source": [
    "corpus=create_corpus(union)"
   ]
  },
  {
   "cell_type": "code",
   "execution_count": 168,
   "metadata": {},
   "outputs": [],
   "source": [
    "embedding_dict={}\r\n",
    "with open('./glove.6B.100d.txt','r', encoding='utf-8') as f:\r\n",
    "    for line in f:\r\n",
    "        values=line.split()\r\n",
    "        word=values[0]\r\n",
    "        vectors=np.asarray(values[1:],'float32')\r\n",
    "        embedding_dict[word]=vectors\r\n",
    "f.close()"
   ]
  },
  {
   "cell_type": "code",
   "execution_count": 169,
   "metadata": {},
   "outputs": [],
   "source": [
    "MAX_LEN=50\r\n",
    "tokenizer_obj=Tokenizer()\r\n",
    "tokenizer_obj.fit_on_texts(corpus)\r\n",
    "sequences=tokenizer_obj.texts_to_sequences(corpus)\r\n",
    "tweet_pad=pad_sequences(sequences,maxlen=MAX_LEN,truncating='post',padding='post')"
   ]
  },
  {
   "cell_type": "code",
   "execution_count": 170,
   "metadata": {},
   "outputs": [
    {
     "name": "stdout",
     "output_type": "stream",
     "text": [
      "Number of unique words: 20342\n"
     ]
    }
   ],
   "source": [
    "word_index=tokenizer_obj.word_index\r\n",
    "print('Number of unique words:',len(word_index))"
   ]
  },
  {
   "cell_type": "code",
   "execution_count": 171,
   "metadata": {},
   "outputs": [
    {
     "name": "stderr",
     "output_type": "stream",
     "text": [
      "100%|██████████| 20342/20342 [00:00<00:00, 184541.47it/s]\n"
     ]
    }
   ],
   "source": [
    "num_words=len(word_index)+1\r\n",
    "embedding_matrix=np.zeros((num_words,100))\r\n",
    "\r\n",
    "for word,i in tqdm(word_index.items()):\r\n",
    "    if i > num_words:\r\n",
    "        continue\r\n",
    "    \r\n",
    "    emb_vec=embedding_dict.get(word)\r\n",
    "    if emb_vec is not None:\r\n",
    "        embedding_matrix[i]=emb_vec"
   ]
  },
  {
   "cell_type": "markdown",
   "metadata": {},
   "source": [
    "#### Armando el modelo"
   ]
  },
  {
   "cell_type": "code",
   "execution_count": 172,
   "metadata": {},
   "outputs": [],
   "source": [
    "from cProfile import run\r\n",
    "\r\n",
    "\r\n",
    "model=Sequential()\r\n",
    "embedding=Embedding(num_words,100,embeddings_initializer=Constant(embedding_matrix), input_length=MAX_LEN,trainable=False)\r\n",
    "model.add(embedding)\r\n",
    "model.add(SpatialDropout1D(0.2))\r\n",
    "model.add(LSTM(64, dropout=0.2, recurrent_dropout=0.2))\r\n",
    "model.add(Dense(1, activation='sigmoid'))\r\n",
    "optimzer=Adam(learning_rate=1e-5)\r\n",
    "model.compile(loss='binary_crossentropy',optimizer=optimzer,metrics=['accuracy'], run_eagerly=True)"
   ]
  },
  {
   "cell_type": "code",
   "execution_count": 173,
   "metadata": {},
   "outputs": [
    {
     "name": "stdout",
     "output_type": "stream",
     "text": [
      "Model: \"sequential_2\"\n",
      "_________________________________________________________________\n",
      " Layer (type)                Output Shape              Param #   \n",
      "=================================================================\n",
      " embedding_2 (Embedding)     (None, 50, 100)           2034300   \n",
      "                                                                 \n",
      " spatial_dropout1d_2 (Spatia  (None, 50, 100)          0         \n",
      " lDropout1D)                                                     \n",
      "                                                                 \n",
      " lstm_2 (LSTM)               (None, 64)                42240     \n",
      "                                                                 \n",
      " dense_2 (Dense)             (None, 1)                 65        \n",
      "                                                                 \n",
      "=================================================================\n",
      "Total params: 2,076,605\n",
      "Trainable params: 42,305\n",
      "Non-trainable params: 2,034,300\n",
      "_________________________________________________________________\n"
     ]
    }
   ],
   "source": [
    "model.summary()"
   ]
  },
  {
   "cell_type": "code",
   "execution_count": 174,
   "metadata": {},
   "outputs": [],
   "source": [
    "train=tweet_pad[:union.shape[0]]\r\n",
    "test=tweet_pad[union.shape[0]:]"
   ]
  },
  {
   "cell_type": "code",
   "execution_count": 175,
   "metadata": {},
   "outputs": [
    {
     "name": "stdout",
     "output_type": "stream",
     "text": [
      "Shape of train (9244, 50)\n",
      "Shape of Validation  (1632, 50)\n"
     ]
    }
   ],
   "source": [
    "X_train,X_test,y_train,y_test = train_test_split(train,union['target'].values,test_size=0.15)\r\n",
    "print('Shape of train',X_train.shape)\r\n",
    "print(\"Shape of Validation \",X_test.shape)"
   ]
  },
  {
   "cell_type": "code",
   "execution_count": 176,
   "metadata": {},
   "outputs": [
    {
     "name": "stdout",
     "output_type": "stream",
     "text": [
      "Epoch 1/15\n",
      "2311/2311 - 1014s - loss: nan - accuracy: 0.3981 - val_loss: nan - val_accuracy: 0.4044 - 1014s/epoch - 439ms/step\n",
      "Epoch 2/15\n",
      "2311/2311 - 939s - loss: nan - accuracy: 0.3983 - val_loss: nan - val_accuracy: 0.4044 - 939s/epoch - 406ms/step\n",
      "Epoch 3/15\n",
      "2311/2311 - 867s - loss: nan - accuracy: 0.3983 - val_loss: nan - val_accuracy: 0.4044 - 867s/epoch - 375ms/step\n",
      "Epoch 4/15\n",
      "2311/2311 - 894s - loss: nan - accuracy: 0.3983 - val_loss: nan - val_accuracy: 0.4044 - 894s/epoch - 387ms/step\n",
      "Epoch 5/15\n",
      "2311/2311 - 889s - loss: nan - accuracy: 0.3983 - val_loss: nan - val_accuracy: 0.4044 - 889s/epoch - 385ms/step\n",
      "Epoch 6/15\n",
      "2311/2311 - 1017s - loss: nan - accuracy: 0.3983 - val_loss: nan - val_accuracy: 0.4044 - 1017s/epoch - 440ms/step\n",
      "Epoch 7/15\n",
      "2311/2311 - 902s - loss: nan - accuracy: 0.3983 - val_loss: nan - val_accuracy: 0.4044 - 902s/epoch - 390ms/step\n",
      "Epoch 8/15\n",
      "2311/2311 - 928s - loss: nan - accuracy: 0.3983 - val_loss: nan - val_accuracy: 0.4044 - 928s/epoch - 401ms/step\n",
      "Epoch 9/15\n",
      "2311/2311 - 913s - loss: nan - accuracy: 0.3983 - val_loss: nan - val_accuracy: 0.4044 - 913s/epoch - 395ms/step\n",
      "Epoch 10/15\n",
      "2311/2311 - 840s - loss: nan - accuracy: 0.3983 - val_loss: nan - val_accuracy: 0.4044 - 840s/epoch - 363ms/step\n",
      "Epoch 11/15\n",
      "2311/2311 - 867s - loss: nan - accuracy: 0.3983 - val_loss: nan - val_accuracy: 0.4044 - 867s/epoch - 375ms/step\n",
      "Epoch 12/15\n",
      "2311/2311 - 831s - loss: nan - accuracy: 0.3983 - val_loss: nan - val_accuracy: 0.4044 - 831s/epoch - 360ms/step\n",
      "Epoch 13/15\n",
      "2311/2311 - 807s - loss: nan - accuracy: 0.3983 - val_loss: nan - val_accuracy: 0.4044 - 807s/epoch - 349ms/step\n",
      "Epoch 14/15\n",
      "2311/2311 - 825s - loss: nan - accuracy: 0.3983 - val_loss: nan - val_accuracy: 0.4044 - 825s/epoch - 357ms/step\n",
      "Epoch 15/15\n",
      "2311/2311 - 910s - loss: nan - accuracy: 0.3983 - val_loss: nan - val_accuracy: 0.4044 - 910s/epoch - 394ms/step\n"
     ]
    }
   ],
   "source": [
    "history = model.fit(X_train,y_train,batch_size=4,epochs=15,validation_data=(X_test,y_test),verbose=2)"
   ]
  },
  {
   "cell_type": "code",
   "execution_count": 177,
   "metadata": {},
   "outputs": [],
   "source": [
    "sample_sub = pd.read_csv('./predictions.csv')"
   ]
  },
  {
   "cell_type": "code",
   "execution_count": null,
   "metadata": {},
   "outputs": [],
   "source": [
    "y_pre=model.predict(test)\r\n",
    "y_pre=np.round(y_pre).astype(int).reshape(3263)\r\n",
    "sub=pd.DataFrame({'id':sample_sub['id'].values.tolist(),'target':y_pre})\r\n",
    "sub.to_csv('submission.csv',index=False)"
   ]
  }
 ],
 "metadata": {
  "kernelspec": {
   "display_name": "Python 3.10.6 64-bit",
   "metadata": {
    "interpreter": {
     "hash": "6cb11118430048aaffde37140829a96b2f2778371a079ecf7cef1d9eee249f62"
    }
   },
   "name": "python3"
  },
  "language_info": {
   "codemirror_mode": {
    "name": "ipython",
    "version": 3
   },
   "file_extension": ".py",
   "mimetype": "text/x-python",
   "name": "python",
   "nbconvert_exporter": "python",
   "pygments_lexer": "ipython3",
   "version": "3.10.6"
  },
  "orig_nbformat": 4,
  "vscode": {
   "interpreter": {
    "hash": "a1fbb46e97979fe274de0b1708aa8583f7166e6b85cafc938966f13b05b745da"
   }
  }
 },
 "nbformat": 4,
 "nbformat_minor": 2
}